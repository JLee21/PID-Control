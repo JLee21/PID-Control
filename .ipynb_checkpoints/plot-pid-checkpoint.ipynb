{
 "cells": [
  {
   "cell_type": "code",
   "execution_count": 59,
   "metadata": {},
   "outputs": [],
   "source": [
    "import numpy as np\n",
    "import matplotlib.pyplot as plt\n",
    "%matplotlib inline\n",
    "plt.style.use('fivethirtyeight')\n",
    "import pickle\n",
    "from glob import glob\n",
    "\n",
    "# So we can see the output of multiple variables in a single cell\n",
    "from IPython.core.interactiveshell import InteractiveShell\n",
    "InteractiveShell.ast_node_interactivity = \"all\""
   ]
  },
  {
   "cell_type": "code",
   "execution_count": 62,
   "metadata": {},
   "outputs": [
    {
     "data": {
      "text/plain": [
       "['cmake_install.cmake',\n",
       " 'CMakeCache.txt',\n",
       " 'CMakeFiles',\n",
       " 'Makefile',\n",
       " 'output.log',\n",
       " 'pid']"
      ]
     },
     "execution_count": 62,
     "metadata": {},
     "output_type": "execute_result"
    },
    {
     "data": {
      "text/plain": [
       "['.git',\n",
       " '.gitignore',\n",
       " '.ipynb_checkpoints',\n",
       " 'build',\n",
       " 'CMakeLists.txt',\n",
       " 'cmakepatch.txt',\n",
       " 'CODEOWNERS',\n",
       " 'install-mac.sh',\n",
       " 'install-ubuntu.sh',\n",
       " 'plot-pid.ipynb',\n",
       " 'README.md',\n",
       " 'run-0.5-0.2-0.2',\n",
       " 'run-00',\n",
       " 'run::-0.5::-0.2::-0.2',\n",
       " 'src']"
      ]
     },
     "execution_count": 62,
     "metadata": {},
     "output_type": "execute_result"
    }
   ],
   "source": [
    "import os, sys\n",
    "os.listdir('./build')\n",
    "os.listdir()"
   ]
  },
  {
   "cell_type": "code",
   "execution_count": 86,
   "metadata": {},
   "outputs": [
    {
     "ename": "SyntaxError",
     "evalue": "unexpected EOF while parsing (<ipython-input-86-3fb2e390d1b5>, line 44)",
     "output_type": "error",
     "traceback": [
      "\u001b[0;36m  File \u001b[0;32m\"<ipython-input-86-3fb2e390d1b5>\"\u001b[0;36m, line \u001b[0;32m44\u001b[0m\n\u001b[0;31m    \u001b[0m\n\u001b[0m    ^\u001b[0m\n\u001b[0;31mSyntaxError\u001b[0m\u001b[0;31m:\u001b[0m unexpected EOF while parsing\n"
     ]
    }
   ],
   "source": [
    "f = open('./build/output.log')\n",
    "data = f.readlines()\n",
    "f.close()\n",
    "\n",
    "Kp = data[1].split(':')[1].split(' ')[0]\n",
    "Ki = data[1].split(':')[2].split(' ')[0]\n",
    "Kd = data[1].split(':')[3].split('\\\\n')[0][:-1]\n",
    "\n",
    "cte = [float(line.split(': ')[1].split(' ')[0]) for line in data if 'CTE:' in line]\n",
    "data = [line for line in data if '42[' in line]\n",
    "angle = [float(line.split(':')[1].split(',')[0]) for line in data]\n",
    "throttle = [float(line.split(':')[2].split('}')[0]) for line in data]\n",
    "len(data)\n",
    "\n",
    "pickle_data = {}\n",
    "pickle_data['values'] = {'Kp': Kp,\n",
    "                         'Ki': Ki,\n",
    "                         'Kd': Kd}\n",
    "pickle_data['cte'] = cte\n",
    "pickle_data['angle'] = angle\n",
    "pickle_data['throttle'] = throttle\n",
    "\n",
    "run = 'run::'+str(Kp)+'::'+str(Ki)+'::'+str(Kd)\n",
    "with open(run, 'wb') as f:\n",
    "    pickle.dump(pickle_data, f)\n",
    "\n",
    "runs = glob('run*::*::*')\n",
    "for run in runs:\n",
    "    with open(run, 'rb') as f:\n",
    "        data = pickle.load(f)\n",
    "    f.close()\n",
    "\n",
    "    plt.figure(figsize=(20,2))\n",
    "    plt.plot(data['angle'], label='steer angle')\n",
    "    plt.plot(data['throttle'], 'g', label='throttle', linewidth='2')\n",
    "    plt.plot(data['cte'], 'r', label='cross track error', linewidth=2, linestyle='--')\n",
    "    plt.legend()\n",
    "    plt.title('Kp = {Kp}\\nKi = {Ki:>3}\\nKd = {Kd:>3}'.format(**data['values']))\n",
    "    plt.show()\n",
    "pass;\n",
    "\n",
    "runs = glob('run*::*::*')\n",
    "for run in runs:\n",
    "    "
   ]
  },
  {
   "cell_type": "code",
   "execution_count": null,
   "metadata": {
    "collapsed": true
   },
   "outputs": [],
   "source": [
    "\n"
   ]
  }
 ],
 "metadata": {
  "kernelspec": {
   "display_name": "Python 3",
   "language": "python",
   "name": "python3"
  },
  "language_info": {
   "codemirror_mode": {
    "name": "ipython",
    "version": 3
   },
   "file_extension": ".py",
   "mimetype": "text/x-python",
   "name": "python",
   "nbconvert_exporter": "python",
   "pygments_lexer": "ipython3",
   "version": "3.6.1"
  }
 },
 "nbformat": 4,
 "nbformat_minor": 2
}
